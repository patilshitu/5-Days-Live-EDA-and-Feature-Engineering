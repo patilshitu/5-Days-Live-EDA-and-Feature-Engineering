{
  "nbformat": 4,
  "nbformat_minor": 0,
  "metadata": {
    "colab": {
      "provenance": [],
      "collapsed_sections": [],
      "authorship_tag": "ABX9TyMfNNvtJYIyCdpDB/AcUptJ",
      "include_colab_link": true
    },
    "kernelspec": {
      "name": "python3",
      "display_name": "Python 3"
    },
    "language_info": {
      "name": "python"
    }
  },
  "cells": [
    {
      "cell_type": "markdown",
      "metadata": {
        "id": "view-in-github",
        "colab_type": "text"
      },
      "source": [
        "<a href=\"https://colab.research.google.com/github/patilshitu/5-Days-Live-EDA-and-Feature-Engineering/blob/main/Untitled3.ipynb\" target=\"_parent\"><img src=\"https://colab.research.google.com/assets/colab-badge.svg\" alt=\"Open In Colab\"/></a>"
      ]
    },
    {
      "cell_type": "code",
      "execution_count": 36,
      "metadata": {
        "id": "4_GtjRUstwLp"
      },
      "outputs": [],
      "source": [
        "from sklearn.datasets import make_regression\n",
        "import pandas as pd\n",
        "import numpy as np\n",
        "import plotly.express as px\n",
        "import plotly.graph_objects as go\n",
        "\n",
        "\n",
        "from sklearn.metrics import mean_absolute_error,mean_squared_error,r2_score"
      ]
    },
    {
      "cell_type": "code",
      "source": [
        "X,y = make_regression(n_samples=100, n_features=2, n_informative=2, n_targets=1, noise=50)\n"
      ],
      "metadata": {
        "id": "kdc2PTAHtxiW"
      },
      "execution_count": 37,
      "outputs": []
    },
    {
      "cell_type": "code",
      "source": [
        "df = pd.DataFrame({'feature1':X[:,0],'feature2':X[:,1],'target':y})\n",
        "df"
      ],
      "metadata": {
        "colab": {
          "base_uri": "https://localhost:8080/",
          "height": 424
        },
        "id": "bDC8H7Xnt2XW",
        "outputId": "6d6c74e6-f171-4c6a-b685-dae9df631c4f"
      },
      "execution_count": 38,
      "outputs": [
        {
          "output_type": "execute_result",
          "data": {
            "text/plain": [
              "    feature1  feature2      target\n",
              "0  -0.245614 -0.522872 -107.881023\n",
              "1  -0.147441 -0.396717  -57.854844\n",
              "2   2.455312 -1.521255    9.078404\n",
              "3  -0.178651  0.696879   89.898056\n",
              "4   0.527013 -0.726660  -26.761484\n",
              "..       ...       ...         ...\n",
              "95  1.316387 -0.343932  106.767636\n",
              "96 -1.600841  0.823569   82.680544\n",
              "97 -0.542658  0.780328   29.454398\n",
              "98 -0.092500  0.242072   40.473418\n",
              "99  0.105980  0.702181  174.347122\n",
              "\n",
              "[100 rows x 3 columns]"
            ],
            "text/html": [
              "\n",
              "  <div id=\"df-fcdd0583-b63d-47a0-9d07-a52dcf591103\">\n",
              "    <div class=\"colab-df-container\">\n",
              "      <div>\n",
              "<style scoped>\n",
              "    .dataframe tbody tr th:only-of-type {\n",
              "        vertical-align: middle;\n",
              "    }\n",
              "\n",
              "    .dataframe tbody tr th {\n",
              "        vertical-align: top;\n",
              "    }\n",
              "\n",
              "    .dataframe thead th {\n",
              "        text-align: right;\n",
              "    }\n",
              "</style>\n",
              "<table border=\"1\" class=\"dataframe\">\n",
              "  <thead>\n",
              "    <tr style=\"text-align: right;\">\n",
              "      <th></th>\n",
              "      <th>feature1</th>\n",
              "      <th>feature2</th>\n",
              "      <th>target</th>\n",
              "    </tr>\n",
              "  </thead>\n",
              "  <tbody>\n",
              "    <tr>\n",
              "      <th>0</th>\n",
              "      <td>-0.245614</td>\n",
              "      <td>-0.522872</td>\n",
              "      <td>-107.881023</td>\n",
              "    </tr>\n",
              "    <tr>\n",
              "      <th>1</th>\n",
              "      <td>-0.147441</td>\n",
              "      <td>-0.396717</td>\n",
              "      <td>-57.854844</td>\n",
              "    </tr>\n",
              "    <tr>\n",
              "      <th>2</th>\n",
              "      <td>2.455312</td>\n",
              "      <td>-1.521255</td>\n",
              "      <td>9.078404</td>\n",
              "    </tr>\n",
              "    <tr>\n",
              "      <th>3</th>\n",
              "      <td>-0.178651</td>\n",
              "      <td>0.696879</td>\n",
              "      <td>89.898056</td>\n",
              "    </tr>\n",
              "    <tr>\n",
              "      <th>4</th>\n",
              "      <td>0.527013</td>\n",
              "      <td>-0.726660</td>\n",
              "      <td>-26.761484</td>\n",
              "    </tr>\n",
              "    <tr>\n",
              "      <th>...</th>\n",
              "      <td>...</td>\n",
              "      <td>...</td>\n",
              "      <td>...</td>\n",
              "    </tr>\n",
              "    <tr>\n",
              "      <th>95</th>\n",
              "      <td>1.316387</td>\n",
              "      <td>-0.343932</td>\n",
              "      <td>106.767636</td>\n",
              "    </tr>\n",
              "    <tr>\n",
              "      <th>96</th>\n",
              "      <td>-1.600841</td>\n",
              "      <td>0.823569</td>\n",
              "      <td>82.680544</td>\n",
              "    </tr>\n",
              "    <tr>\n",
              "      <th>97</th>\n",
              "      <td>-0.542658</td>\n",
              "      <td>0.780328</td>\n",
              "      <td>29.454398</td>\n",
              "    </tr>\n",
              "    <tr>\n",
              "      <th>98</th>\n",
              "      <td>-0.092500</td>\n",
              "      <td>0.242072</td>\n",
              "      <td>40.473418</td>\n",
              "    </tr>\n",
              "    <tr>\n",
              "      <th>99</th>\n",
              "      <td>0.105980</td>\n",
              "      <td>0.702181</td>\n",
              "      <td>174.347122</td>\n",
              "    </tr>\n",
              "  </tbody>\n",
              "</table>\n",
              "<p>100 rows × 3 columns</p>\n",
              "</div>\n",
              "      <button class=\"colab-df-convert\" onclick=\"convertToInteractive('df-fcdd0583-b63d-47a0-9d07-a52dcf591103')\"\n",
              "              title=\"Convert this dataframe to an interactive table.\"\n",
              "              style=\"display:none;\">\n",
              "        \n",
              "  <svg xmlns=\"http://www.w3.org/2000/svg\" height=\"24px\"viewBox=\"0 0 24 24\"\n",
              "       width=\"24px\">\n",
              "    <path d=\"M0 0h24v24H0V0z\" fill=\"none\"/>\n",
              "    <path d=\"M18.56 5.44l.94 2.06.94-2.06 2.06-.94-2.06-.94-.94-2.06-.94 2.06-2.06.94zm-11 1L8.5 8.5l.94-2.06 2.06-.94-2.06-.94L8.5 2.5l-.94 2.06-2.06.94zm10 10l.94 2.06.94-2.06 2.06-.94-2.06-.94-.94-2.06-.94 2.06-2.06.94z\"/><path d=\"M17.41 7.96l-1.37-1.37c-.4-.4-.92-.59-1.43-.59-.52 0-1.04.2-1.43.59L10.3 9.45l-7.72 7.72c-.78.78-.78 2.05 0 2.83L4 21.41c.39.39.9.59 1.41.59.51 0 1.02-.2 1.41-.59l7.78-7.78 2.81-2.81c.8-.78.8-2.07 0-2.86zM5.41 20L4 18.59l7.72-7.72 1.47 1.35L5.41 20z\"/>\n",
              "  </svg>\n",
              "      </button>\n",
              "      \n",
              "  <style>\n",
              "    .colab-df-container {\n",
              "      display:flex;\n",
              "      flex-wrap:wrap;\n",
              "      gap: 12px;\n",
              "    }\n",
              "\n",
              "    .colab-df-convert {\n",
              "      background-color: #E8F0FE;\n",
              "      border: none;\n",
              "      border-radius: 50%;\n",
              "      cursor: pointer;\n",
              "      display: none;\n",
              "      fill: #1967D2;\n",
              "      height: 32px;\n",
              "      padding: 0 0 0 0;\n",
              "      width: 32px;\n",
              "    }\n",
              "\n",
              "    .colab-df-convert:hover {\n",
              "      background-color: #E2EBFA;\n",
              "      box-shadow: 0px 1px 2px rgba(60, 64, 67, 0.3), 0px 1px 3px 1px rgba(60, 64, 67, 0.15);\n",
              "      fill: #174EA6;\n",
              "    }\n",
              "\n",
              "    [theme=dark] .colab-df-convert {\n",
              "      background-color: #3B4455;\n",
              "      fill: #D2E3FC;\n",
              "    }\n",
              "\n",
              "    [theme=dark] .colab-df-convert:hover {\n",
              "      background-color: #434B5C;\n",
              "      box-shadow: 0px 1px 3px 1px rgba(0, 0, 0, 0.15);\n",
              "      filter: drop-shadow(0px 1px 2px rgba(0, 0, 0, 0.3));\n",
              "      fill: #FFFFFF;\n",
              "    }\n",
              "  </style>\n",
              "\n",
              "      <script>\n",
              "        const buttonEl =\n",
              "          document.querySelector('#df-fcdd0583-b63d-47a0-9d07-a52dcf591103 button.colab-df-convert');\n",
              "        buttonEl.style.display =\n",
              "          google.colab.kernel.accessAllowed ? 'block' : 'none';\n",
              "\n",
              "        async function convertToInteractive(key) {\n",
              "          const element = document.querySelector('#df-fcdd0583-b63d-47a0-9d07-a52dcf591103');\n",
              "          const dataTable =\n",
              "            await google.colab.kernel.invokeFunction('convertToInteractive',\n",
              "                                                     [key], {});\n",
              "          if (!dataTable) return;\n",
              "\n",
              "          const docLinkHtml = 'Like what you see? Visit the ' +\n",
              "            '<a target=\"_blank\" href=https://colab.research.google.com/notebooks/data_table.ipynb>data table notebook</a>'\n",
              "            + ' to learn more about interactive tables.';\n",
              "          element.innerHTML = '';\n",
              "          dataTable['output_type'] = 'display_data';\n",
              "          await google.colab.output.renderOutput(dataTable, element);\n",
              "          const docLink = document.createElement('div');\n",
              "          docLink.innerHTML = docLinkHtml;\n",
              "          element.appendChild(docLink);\n",
              "        }\n",
              "      </script>\n",
              "    </div>\n",
              "  </div>\n",
              "  "
            ]
          },
          "metadata": {},
          "execution_count": 38
        }
      ]
    },
    {
      "cell_type": "code",
      "source": [
        "df.shape"
      ],
      "metadata": {
        "colab": {
          "base_uri": "https://localhost:8080/"
        },
        "id": "qFwCAkK9t5jw",
        "outputId": "cc53319e-3638-4238-f64d-5d3462595b1b"
      },
      "execution_count": 39,
      "outputs": [
        {
          "output_type": "execute_result",
          "data": {
            "text/plain": [
              "(100, 3)"
            ]
          },
          "metadata": {},
          "execution_count": 39
        }
      ]
    },
    {
      "cell_type": "code",
      "source": [
        "fig = px.scatter_3d(df, x='feature1', y='feature2', z='target')\n",
        "\n",
        "fig.show()"
      ],
      "metadata": {
        "colab": {
          "base_uri": "https://localhost:8080/",
          "height": 542
        },
        "id": "62gDRTX8t8VY",
        "outputId": "8d6ea3ca-69bd-4f30-eacb-f1f2fd19e7d2"
      },
      "execution_count": 40,
      "outputs": [
        {
          "output_type": "display_data",
          "data": {
            "text/html": [
              "<html>\n",
              "<head><meta charset=\"utf-8\" /></head>\n",
              "<body>\n",
              "    <div>            <script src=\"https://cdnjs.cloudflare.com/ajax/libs/mathjax/2.7.5/MathJax.js?config=TeX-AMS-MML_SVG\"></script><script type=\"text/javascript\">if (window.MathJax) {MathJax.Hub.Config({SVG: {font: \"STIX-Web\"}});}</script>                <script type=\"text/javascript\">window.PlotlyConfig = {MathJaxConfig: 'local'};</script>\n",
              "        <script src=\"https://cdn.plot.ly/plotly-2.8.3.min.js\"></script>                <div id=\"fb43c655-829f-4032-91cf-3c85700e1f70\" class=\"plotly-graph-div\" style=\"height:525px; width:100%;\"></div>            <script type=\"text/javascript\">                                    window.PLOTLYENV=window.PLOTLYENV || {};                                    if (document.getElementById(\"fb43c655-829f-4032-91cf-3c85700e1f70\")) {                    Plotly.newPlot(                        \"fb43c655-829f-4032-91cf-3c85700e1f70\",                        [{\"hovertemplate\":\"feature1=%{x}<br>feature2=%{y}<br>target=%{z}<extra></extra>\",\"legendgroup\":\"\",\"marker\":{\"color\":\"#636efa\",\"symbol\":\"circle\"},\"mode\":\"markers\",\"name\":\"\",\"scene\":\"scene\",\"showlegend\":false,\"x\":[-0.24561355254554926,-0.14744087072009388,2.455311802805132,-0.1786509533588253,0.5270134760794026,-1.1717641628072826,0.33482801188067485,0.13856640149786323,0.46356872901365287,-0.2348541077795689,-0.562899213888836,-0.10949245542991343,-2.321230234560566,-1.1698232106639623,-1.6102610694436654,-1.4616827520448072,1.1082273991217486,0.5609776563931678,-0.406642418013344,0.8032057989846211,-1.2178398462730877,0.9324465877244882,-0.5844217604542723,0.32982018908930316,1.0988243316654762,0.6450451333195145,-0.9956544780445954,0.26164999900930247,-0.7646000244389728,0.0996710730928702,0.6282469928280651,-0.7669023889500312,-0.8954845577313779,0.5600661964734809,0.22833765652772645,2.1477673744142787,-1.7869599478997316,0.5084473841392725,0.34717448446890276,-0.7221293910029117,1.7583030214620383,-0.17662353311847606,-0.8421701413062633,-1.7966564848680444,1.34329344960053,1.1781093535441565,1.3698181465733374,0.21460176458501476,-0.8600719984476493,1.380979079332318,0.24234776922047338,0.484068817730242,0.24823488250407524,0.32925459978889815,-0.9885639720081795,-1.2005213068518525,-0.16169026870364875,-0.709876826284449,-1.1468360545684824,1.4466635770512855,-1.5709407757179752,0.31717251107753186,1.5802742788908475,-0.3634663141813316,0.18437375697191954,0.6870841547629877,1.2836819874066556,1.3085050479476732,0.4952588764166154,-2.3942523792443797,1.0005341434392603,-0.4749275163119261,-2.063348098363758,-0.3557932336764822,1.5197334530728746,-0.04777494922146318,-0.8300413918314399,-0.053348744058748246,2.336698763393833,-0.37152043360594333,0.09733129221439676,-2.3839404376398767,-0.009806954482006124,-0.7917327552262544,0.7061774996536209,0.2243617967634447,0.5612836805446857,1.5854121573543567,-0.1924789062412487,-1.251291323309674,0.09506804231419412,1.890437154396539,1.6869732128851658,-0.23987458547722393,-0.761921075513248,1.316386887928141,-1.6008406754682656,-0.5426583760886745,-0.09250043905313914,0.10597983564324039],\"y\":[-0.5228718773310708,-0.3967167631805047,-1.5212545301591003,0.696878711554633,-0.726659987556604,0.1325520935428638,0.7122646874043653,0.5559322248894881,0.8299204753475363,0.7622808056074709,-0.3571081817406207,-0.7673082974995532,-1.822467163795922,0.03487461979410958,-1.6807803315356717,-0.44521254756540457,0.8159383579848506,-0.190325783390438,-0.7856396928245887,-0.9260761805359051,0.517583924104966,1.6021026671366598,0.4229873203326432,-1.700037719783502,-0.4538604329666314,0.8166864818978298,0.9305585393005259,0.5049074077128883,0.5211682772750961,-0.01335320835574904,-1.5967931088903544,0.1903216111844825,1.956463893701451,1.3869483145763544,-0.047308156025256766,-1.655316339583839,-1.4852329670668705,0.8284691878025611,-0.025856984194598406,-0.5250201614457214,0.16712114970338152,-1.0227413771716383,0.1312874571148971,-0.24980039445179966,-0.7550294585573503,-0.38511246108466035,-0.06156158170616333,-1.4927667371666398,-1.009908149102168,-0.49475778714092544,-1.2020041679625442,-1.4431665698922393,0.7171748469242151,0.17685744244345322,-0.9826746544702243,1.228267151164087,-0.1938946283390324,0.37913102238454816,0.6169941215084964,0.4390191948265106,1.119066159693314,0.9071592227843391,-1.1709066569930697,-0.1294459734396095,-0.9212302428638102,1.2705795898023755,-2.1770644281738987,-0.047256955238639285,-0.9698091006080616,-1.6396728546288115,0.8880217205860603,0.6150480380083345,-1.1110029447156429,1.0219039925973734,-1.437867397359614,0.47720449875269483,-1.6440534795849413,-0.6146552236842631,-0.8333882810156945,0.10974442365932786,-0.1521483055090689,-0.4275444547592188,-0.6123386356987067,0.9217241012821501,-2.1394821521408396,0.29341592256007204,-1.048563171146167,-0.2637905212259376,-0.07842688099548696,1.0138601883544591,1.151777340996876,1.5773889595055475,-0.12652528941916694,0.48170961288981695,-0.2506145262455514,-0.3439318091514637,0.8235685130466208,0.7803277353050173,0.24207186377149534,0.7021810496526435],\"z\":[-107.88102341398377,-57.85484389608589,9.07840375223331,89.89805638118261,-26.761484029869365,-86.61907390798088,120.30900737597256,97.362821917105,112.9578516763733,53.449455297549136,-35.341898735725316,-121.05667506955126,-251.3847941317348,-49.14680034164675,-333.607949087556,-73.11082404862374,97.97519957734065,-59.202563654854984,-147.38917252611245,-40.613946303896626,-75.92400094794968,195.04013270696638,62.02632582472083,-158.33130997829517,-68.92255085308321,128.8744914224352,19.89582929487768,36.7721625067809,-3.1700830335507186,4.93711614234881,-102.54977983267915,-75.44828094449721,57.47968065030858,73.00038072879555,-19.802601147373913,-14.792879144367147,-171.27417933507246,-14.943079788708644,-75.96951547773727,-55.10225026995222,128.98219452366214,-129.8857505652379,-87.17240660000053,-121.09603153214607,34.98671840096476,58.46445723146202,108.78175978101997,-136.63832836529457,-238.15812815722683,21.888146461105478,-121.31695902162275,-116.62628678501297,13.63055888727122,18.635932044117382,-154.83551480554465,97.12046016972636,-23.28333583630672,49.447728333834995,45.44485048722237,157.5576572441507,6.432062345614235,87.02532773728045,-60.953204233584636,-24.615160780679123,-32.469092742309,213.4429627509757,-145.63774612067763,129.55151119725716,-30.646225689704373,-331.41446812349557,138.1295905618734,91.49084865726662,-196.985525858005,63.13717017220809,-62.3262769434408,105.0406016655646,-152.56844279591536,-127.28543906911261,38.00841854195478,-24.259943131722327,64.99087828796954,-188.87813793532203,-8.368006273752457,-7.068529757650516,-209.5880703267917,45.94387120082256,-85.30665486121856,75.92840753921504,-18.37410017612421,82.84472429785163,55.27037528060377,206.60051842575587,157.9643958264839,45.93017686434568,-145.9504239194568,106.76763639657767,82.68054396376357,29.454397737817583,40.473417530379294,174.3471221557856],\"type\":\"scatter3d\"}],                        {\"template\":{\"data\":{\"bar\":[{\"error_x\":{\"color\":\"#2a3f5f\"},\"error_y\":{\"color\":\"#2a3f5f\"},\"marker\":{\"line\":{\"color\":\"#E5ECF6\",\"width\":0.5},\"pattern\":{\"fillmode\":\"overlay\",\"size\":10,\"solidity\":0.2}},\"type\":\"bar\"}],\"barpolar\":[{\"marker\":{\"line\":{\"color\":\"#E5ECF6\",\"width\":0.5},\"pattern\":{\"fillmode\":\"overlay\",\"size\":10,\"solidity\":0.2}},\"type\":\"barpolar\"}],\"carpet\":[{\"aaxis\":{\"endlinecolor\":\"#2a3f5f\",\"gridcolor\":\"white\",\"linecolor\":\"white\",\"minorgridcolor\":\"white\",\"startlinecolor\":\"#2a3f5f\"},\"baxis\":{\"endlinecolor\":\"#2a3f5f\",\"gridcolor\":\"white\",\"linecolor\":\"white\",\"minorgridcolor\":\"white\",\"startlinecolor\":\"#2a3f5f\"},\"type\":\"carpet\"}],\"choropleth\":[{\"colorbar\":{\"outlinewidth\":0,\"ticks\":\"\"},\"type\":\"choropleth\"}],\"contour\":[{\"colorbar\":{\"outlinewidth\":0,\"ticks\":\"\"},\"colorscale\":[[0.0,\"#0d0887\"],[0.1111111111111111,\"#46039f\"],[0.2222222222222222,\"#7201a8\"],[0.3333333333333333,\"#9c179e\"],[0.4444444444444444,\"#bd3786\"],[0.5555555555555556,\"#d8576b\"],[0.6666666666666666,\"#ed7953\"],[0.7777777777777778,\"#fb9f3a\"],[0.8888888888888888,\"#fdca26\"],[1.0,\"#f0f921\"]],\"type\":\"contour\"}],\"contourcarpet\":[{\"colorbar\":{\"outlinewidth\":0,\"ticks\":\"\"},\"type\":\"contourcarpet\"}],\"heatmap\":[{\"colorbar\":{\"outlinewidth\":0,\"ticks\":\"\"},\"colorscale\":[[0.0,\"#0d0887\"],[0.1111111111111111,\"#46039f\"],[0.2222222222222222,\"#7201a8\"],[0.3333333333333333,\"#9c179e\"],[0.4444444444444444,\"#bd3786\"],[0.5555555555555556,\"#d8576b\"],[0.6666666666666666,\"#ed7953\"],[0.7777777777777778,\"#fb9f3a\"],[0.8888888888888888,\"#fdca26\"],[1.0,\"#f0f921\"]],\"type\":\"heatmap\"}],\"heatmapgl\":[{\"colorbar\":{\"outlinewidth\":0,\"ticks\":\"\"},\"colorscale\":[[0.0,\"#0d0887\"],[0.1111111111111111,\"#46039f\"],[0.2222222222222222,\"#7201a8\"],[0.3333333333333333,\"#9c179e\"],[0.4444444444444444,\"#bd3786\"],[0.5555555555555556,\"#d8576b\"],[0.6666666666666666,\"#ed7953\"],[0.7777777777777778,\"#fb9f3a\"],[0.8888888888888888,\"#fdca26\"],[1.0,\"#f0f921\"]],\"type\":\"heatmapgl\"}],\"histogram\":[{\"marker\":{\"pattern\":{\"fillmode\":\"overlay\",\"size\":10,\"solidity\":0.2}},\"type\":\"histogram\"}],\"histogram2d\":[{\"colorbar\":{\"outlinewidth\":0,\"ticks\":\"\"},\"colorscale\":[[0.0,\"#0d0887\"],[0.1111111111111111,\"#46039f\"],[0.2222222222222222,\"#7201a8\"],[0.3333333333333333,\"#9c179e\"],[0.4444444444444444,\"#bd3786\"],[0.5555555555555556,\"#d8576b\"],[0.6666666666666666,\"#ed7953\"],[0.7777777777777778,\"#fb9f3a\"],[0.8888888888888888,\"#fdca26\"],[1.0,\"#f0f921\"]],\"type\":\"histogram2d\"}],\"histogram2dcontour\":[{\"colorbar\":{\"outlinewidth\":0,\"ticks\":\"\"},\"colorscale\":[[0.0,\"#0d0887\"],[0.1111111111111111,\"#46039f\"],[0.2222222222222222,\"#7201a8\"],[0.3333333333333333,\"#9c179e\"],[0.4444444444444444,\"#bd3786\"],[0.5555555555555556,\"#d8576b\"],[0.6666666666666666,\"#ed7953\"],[0.7777777777777778,\"#fb9f3a\"],[0.8888888888888888,\"#fdca26\"],[1.0,\"#f0f921\"]],\"type\":\"histogram2dcontour\"}],\"mesh3d\":[{\"colorbar\":{\"outlinewidth\":0,\"ticks\":\"\"},\"type\":\"mesh3d\"}],\"parcoords\":[{\"line\":{\"colorbar\":{\"outlinewidth\":0,\"ticks\":\"\"}},\"type\":\"parcoords\"}],\"pie\":[{\"automargin\":true,\"type\":\"pie\"}],\"scatter\":[{\"marker\":{\"colorbar\":{\"outlinewidth\":0,\"ticks\":\"\"}},\"type\":\"scatter\"}],\"scatter3d\":[{\"line\":{\"colorbar\":{\"outlinewidth\":0,\"ticks\":\"\"}},\"marker\":{\"colorbar\":{\"outlinewidth\":0,\"ticks\":\"\"}},\"type\":\"scatter3d\"}],\"scattercarpet\":[{\"marker\":{\"colorbar\":{\"outlinewidth\":0,\"ticks\":\"\"}},\"type\":\"scattercarpet\"}],\"scattergeo\":[{\"marker\":{\"colorbar\":{\"outlinewidth\":0,\"ticks\":\"\"}},\"type\":\"scattergeo\"}],\"scattergl\":[{\"marker\":{\"colorbar\":{\"outlinewidth\":0,\"ticks\":\"\"}},\"type\":\"scattergl\"}],\"scattermapbox\":[{\"marker\":{\"colorbar\":{\"outlinewidth\":0,\"ticks\":\"\"}},\"type\":\"scattermapbox\"}],\"scatterpolar\":[{\"marker\":{\"colorbar\":{\"outlinewidth\":0,\"ticks\":\"\"}},\"type\":\"scatterpolar\"}],\"scatterpolargl\":[{\"marker\":{\"colorbar\":{\"outlinewidth\":0,\"ticks\":\"\"}},\"type\":\"scatterpolargl\"}],\"scatterternary\":[{\"marker\":{\"colorbar\":{\"outlinewidth\":0,\"ticks\":\"\"}},\"type\":\"scatterternary\"}],\"surface\":[{\"colorbar\":{\"outlinewidth\":0,\"ticks\":\"\"},\"colorscale\":[[0.0,\"#0d0887\"],[0.1111111111111111,\"#46039f\"],[0.2222222222222222,\"#7201a8\"],[0.3333333333333333,\"#9c179e\"],[0.4444444444444444,\"#bd3786\"],[0.5555555555555556,\"#d8576b\"],[0.6666666666666666,\"#ed7953\"],[0.7777777777777778,\"#fb9f3a\"],[0.8888888888888888,\"#fdca26\"],[1.0,\"#f0f921\"]],\"type\":\"surface\"}],\"table\":[{\"cells\":{\"fill\":{\"color\":\"#EBF0F8\"},\"line\":{\"color\":\"white\"}},\"header\":{\"fill\":{\"color\":\"#C8D4E3\"},\"line\":{\"color\":\"white\"}},\"type\":\"table\"}]},\"layout\":{\"annotationdefaults\":{\"arrowcolor\":\"#2a3f5f\",\"arrowhead\":0,\"arrowwidth\":1},\"autotypenumbers\":\"strict\",\"coloraxis\":{\"colorbar\":{\"outlinewidth\":0,\"ticks\":\"\"}},\"colorscale\":{\"diverging\":[[0,\"#8e0152\"],[0.1,\"#c51b7d\"],[0.2,\"#de77ae\"],[0.3,\"#f1b6da\"],[0.4,\"#fde0ef\"],[0.5,\"#f7f7f7\"],[0.6,\"#e6f5d0\"],[0.7,\"#b8e186\"],[0.8,\"#7fbc41\"],[0.9,\"#4d9221\"],[1,\"#276419\"]],\"sequential\":[[0.0,\"#0d0887\"],[0.1111111111111111,\"#46039f\"],[0.2222222222222222,\"#7201a8\"],[0.3333333333333333,\"#9c179e\"],[0.4444444444444444,\"#bd3786\"],[0.5555555555555556,\"#d8576b\"],[0.6666666666666666,\"#ed7953\"],[0.7777777777777778,\"#fb9f3a\"],[0.8888888888888888,\"#fdca26\"],[1.0,\"#f0f921\"]],\"sequentialminus\":[[0.0,\"#0d0887\"],[0.1111111111111111,\"#46039f\"],[0.2222222222222222,\"#7201a8\"],[0.3333333333333333,\"#9c179e\"],[0.4444444444444444,\"#bd3786\"],[0.5555555555555556,\"#d8576b\"],[0.6666666666666666,\"#ed7953\"],[0.7777777777777778,\"#fb9f3a\"],[0.8888888888888888,\"#fdca26\"],[1.0,\"#f0f921\"]]},\"colorway\":[\"#636efa\",\"#EF553B\",\"#00cc96\",\"#ab63fa\",\"#FFA15A\",\"#19d3f3\",\"#FF6692\",\"#B6E880\",\"#FF97FF\",\"#FECB52\"],\"font\":{\"color\":\"#2a3f5f\"},\"geo\":{\"bgcolor\":\"white\",\"lakecolor\":\"white\",\"landcolor\":\"#E5ECF6\",\"showlakes\":true,\"showland\":true,\"subunitcolor\":\"white\"},\"hoverlabel\":{\"align\":\"left\"},\"hovermode\":\"closest\",\"mapbox\":{\"style\":\"light\"},\"paper_bgcolor\":\"white\",\"plot_bgcolor\":\"#E5ECF6\",\"polar\":{\"angularaxis\":{\"gridcolor\":\"white\",\"linecolor\":\"white\",\"ticks\":\"\"},\"bgcolor\":\"#E5ECF6\",\"radialaxis\":{\"gridcolor\":\"white\",\"linecolor\":\"white\",\"ticks\":\"\"}},\"scene\":{\"xaxis\":{\"backgroundcolor\":\"#E5ECF6\",\"gridcolor\":\"white\",\"gridwidth\":2,\"linecolor\":\"white\",\"showbackground\":true,\"ticks\":\"\",\"zerolinecolor\":\"white\"},\"yaxis\":{\"backgroundcolor\":\"#E5ECF6\",\"gridcolor\":\"white\",\"gridwidth\":2,\"linecolor\":\"white\",\"showbackground\":true,\"ticks\":\"\",\"zerolinecolor\":\"white\"},\"zaxis\":{\"backgroundcolor\":\"#E5ECF6\",\"gridcolor\":\"white\",\"gridwidth\":2,\"linecolor\":\"white\",\"showbackground\":true,\"ticks\":\"\",\"zerolinecolor\":\"white\"}},\"shapedefaults\":{\"line\":{\"color\":\"#2a3f5f\"}},\"ternary\":{\"aaxis\":{\"gridcolor\":\"white\",\"linecolor\":\"white\",\"ticks\":\"\"},\"baxis\":{\"gridcolor\":\"white\",\"linecolor\":\"white\",\"ticks\":\"\"},\"bgcolor\":\"#E5ECF6\",\"caxis\":{\"gridcolor\":\"white\",\"linecolor\":\"white\",\"ticks\":\"\"}},\"title\":{\"x\":0.05},\"xaxis\":{\"automargin\":true,\"gridcolor\":\"white\",\"linecolor\":\"white\",\"ticks\":\"\",\"title\":{\"standoff\":15},\"zerolinecolor\":\"white\",\"zerolinewidth\":2},\"yaxis\":{\"automargin\":true,\"gridcolor\":\"white\",\"linecolor\":\"white\",\"ticks\":\"\",\"title\":{\"standoff\":15},\"zerolinecolor\":\"white\",\"zerolinewidth\":2}}},\"scene\":{\"domain\":{\"x\":[0.0,1.0],\"y\":[0.0,1.0]},\"xaxis\":{\"title\":{\"text\":\"feature1\"}},\"yaxis\":{\"title\":{\"text\":\"feature2\"}},\"zaxis\":{\"title\":{\"text\":\"target\"}}},\"legend\":{\"tracegroupgap\":0},\"margin\":{\"t\":60}},                        {\"responsive\": true}                    ).then(function(){\n",
              "                            \n",
              "var gd = document.getElementById('fb43c655-829f-4032-91cf-3c85700e1f70');\n",
              "var x = new MutationObserver(function (mutations, observer) {{\n",
              "        var display = window.getComputedStyle(gd).display;\n",
              "        if (!display || display === 'none') {{\n",
              "            console.log([gd, 'removed!']);\n",
              "            Plotly.purge(gd);\n",
              "            observer.disconnect();\n",
              "        }}\n",
              "}});\n",
              "\n",
              "// Listen for the removal of the full notebook cells\n",
              "var notebookContainer = gd.closest('#notebook-container');\n",
              "if (notebookContainer) {{\n",
              "    x.observe(notebookContainer, {childList: true});\n",
              "}}\n",
              "\n",
              "// Listen for the clearing of the current output cell\n",
              "var outputEl = gd.closest('.output');\n",
              "if (outputEl) {{\n",
              "    x.observe(outputEl, {childList: true});\n",
              "}}\n",
              "\n",
              "                        })                };                            </script>        </div>\n",
              "</body>\n",
              "</html>"
            ]
          },
          "metadata": {}
        }
      ]
    },
    {
      "cell_type": "code",
      "source": [
        "#now target is to plot plane on this data.\n",
        "from sklearn.model_selection import train_test_split\n",
        "X_train,X_test,y_train,y_test = train_test_split(X,y,test_size=0.2,random_state=3)\n",
        "#so now here we have use train test split."
      ],
      "metadata": {
        "id": "d7DIXDTluBRO"
      },
      "execution_count": 41,
      "outputs": []
    },
    {
      "cell_type": "code",
      "source": [
        "from sklearn.linear_model import LinearRegression\n"
      ],
      "metadata": {
        "id": "Oo2S1L6KwO7F"
      },
      "execution_count": 42,
      "outputs": []
    },
    {
      "cell_type": "code",
      "source": [
        "lr = LinearRegression()\n"
      ],
      "metadata": {
        "id": "w7RxdwUEwYw1"
      },
      "execution_count": 43,
      "outputs": []
    },
    {
      "cell_type": "code",
      "source": [
        "lr.fit(X_train,y_train)\n"
      ],
      "metadata": {
        "colab": {
          "base_uri": "https://localhost:8080/"
        },
        "id": "zowvoFllwaUD",
        "outputId": "d55340fc-929e-402a-cf25-1067dbc94aaf"
      },
      "execution_count": 44,
      "outputs": [
        {
          "output_type": "execute_result",
          "data": {
            "text/plain": [
              "LinearRegression()"
            ]
          },
          "metadata": {},
          "execution_count": 44
        }
      ]
    },
    {
      "cell_type": "code",
      "source": [
        "y_pred = lr.predict(X_test)\n"
      ],
      "metadata": {
        "id": "0sOkvSIawb0z"
      },
      "execution_count": 45,
      "outputs": []
    },
    {
      "cell_type": "code",
      "source": [
        "print(\"MAE\",mean_absolute_error(y_test,y_pred))\n",
        "print(\"MSE\",mean_squared_error(y_test,y_pred))\n",
        "print(\"R2 score\",r2_score(y_test,y_pred))"
      ],
      "metadata": {
        "colab": {
          "base_uri": "https://localhost:8080/"
        },
        "id": "Cr3J6PH5wd4v",
        "outputId": "bf6fe2ff-e839-435e-a875-c5c861d3ab55"
      },
      "execution_count": 46,
      "outputs": [
        {
          "output_type": "stream",
          "name": "stdout",
          "text": [
            "MAE 42.93195138935723\n",
            "MSE 2422.905612681086\n",
            "R2 score 0.6803023308198883\n"
          ]
        }
      ]
    },
    {
      "cell_type": "code",
      "source": [
        "#higher dimetion regression"
      ],
      "metadata": {
        "id": "6cJlM6DT2SU5"
      },
      "execution_count": 51,
      "outputs": []
    },
    {
      "cell_type": "code",
      "source": [
        "x = np.linspace(-5, 5, 10)\n",
        "y = np.linspace(-5, 5, 10)\n",
        "xGrid, yGrid = np.meshgrid(y, x)\n",
        "\n",
        "z_final = lr.predict(final).reshape(10,10)\n",
        "\n",
        "z = z_final\n",
        "\n",
        "final = np.vstack((xGrid.ravel().reshape(1,100),yGrid.ravel().reshape(1,100))).T\n"
      ],
      "metadata": {
        "id": "11Tt3kVdwfcw"
      },
      "execution_count": 49,
      "outputs": []
    },
    {
      "cell_type": "code",
      "source": [
        "fig = px.scatter_3d(df, x='feature1', y='feature2', z='target')\n",
        "\n",
        "fig.add_trace(go.Surface(x = x, y = y, z =z ))\n",
        "\n",
        "fig.show()"
      ],
      "metadata": {
        "colab": {
          "base_uri": "https://localhost:8080/",
          "height": 542
        },
        "id": "Z7nlJLpuzVDn",
        "outputId": "80c5eba6-97b1-4bea-f751-6926d7aec3ed"
      },
      "execution_count": 50,
      "outputs": [
        {
          "output_type": "display_data",
          "data": {
            "text/html": [
              "<html>\n",
              "<head><meta charset=\"utf-8\" /></head>\n",
              "<body>\n",
              "    <div>            <script src=\"https://cdnjs.cloudflare.com/ajax/libs/mathjax/2.7.5/MathJax.js?config=TeX-AMS-MML_SVG\"></script><script type=\"text/javascript\">if (window.MathJax) {MathJax.Hub.Config({SVG: {font: \"STIX-Web\"}});}</script>                <script type=\"text/javascript\">window.PlotlyConfig = {MathJaxConfig: 'local'};</script>\n",
              "        <script src=\"https://cdn.plot.ly/plotly-2.8.3.min.js\"></script>                <div id=\"0dc797bc-1538-4d5b-bedb-f29f30886b95\" class=\"plotly-graph-div\" style=\"height:525px; width:100%;\"></div>            <script type=\"text/javascript\">                                    window.PLOTLYENV=window.PLOTLYENV || {};                                    if (document.getElementById(\"0dc797bc-1538-4d5b-bedb-f29f30886b95\")) {                    Plotly.newPlot(                        \"0dc797bc-1538-4d5b-bedb-f29f30886b95\",                        [{\"hovertemplate\":\"feature1=%{x}<br>feature2=%{y}<br>target=%{z}<extra></extra>\",\"legendgroup\":\"\",\"marker\":{\"color\":\"#636efa\",\"symbol\":\"circle\"},\"mode\":\"markers\",\"name\":\"\",\"scene\":\"scene\",\"showlegend\":false,\"x\":[-0.24561355254554926,-0.14744087072009388,2.455311802805132,-0.1786509533588253,0.5270134760794026,-1.1717641628072826,0.33482801188067485,0.13856640149786323,0.46356872901365287,-0.2348541077795689,-0.562899213888836,-0.10949245542991343,-2.321230234560566,-1.1698232106639623,-1.6102610694436654,-1.4616827520448072,1.1082273991217486,0.5609776563931678,-0.406642418013344,0.8032057989846211,-1.2178398462730877,0.9324465877244882,-0.5844217604542723,0.32982018908930316,1.0988243316654762,0.6450451333195145,-0.9956544780445954,0.26164999900930247,-0.7646000244389728,0.0996710730928702,0.6282469928280651,-0.7669023889500312,-0.8954845577313779,0.5600661964734809,0.22833765652772645,2.1477673744142787,-1.7869599478997316,0.5084473841392725,0.34717448446890276,-0.7221293910029117,1.7583030214620383,-0.17662353311847606,-0.8421701413062633,-1.7966564848680444,1.34329344960053,1.1781093535441565,1.3698181465733374,0.21460176458501476,-0.8600719984476493,1.380979079332318,0.24234776922047338,0.484068817730242,0.24823488250407524,0.32925459978889815,-0.9885639720081795,-1.2005213068518525,-0.16169026870364875,-0.709876826284449,-1.1468360545684824,1.4466635770512855,-1.5709407757179752,0.31717251107753186,1.5802742788908475,-0.3634663141813316,0.18437375697191954,0.6870841547629877,1.2836819874066556,1.3085050479476732,0.4952588764166154,-2.3942523792443797,1.0005341434392603,-0.4749275163119261,-2.063348098363758,-0.3557932336764822,1.5197334530728746,-0.04777494922146318,-0.8300413918314399,-0.053348744058748246,2.336698763393833,-0.37152043360594333,0.09733129221439676,-2.3839404376398767,-0.009806954482006124,-0.7917327552262544,0.7061774996536209,0.2243617967634447,0.5612836805446857,1.5854121573543567,-0.1924789062412487,-1.251291323309674,0.09506804231419412,1.890437154396539,1.6869732128851658,-0.23987458547722393,-0.761921075513248,1.316386887928141,-1.6008406754682656,-0.5426583760886745,-0.09250043905313914,0.10597983564324039],\"y\":[-0.5228718773310708,-0.3967167631805047,-1.5212545301591003,0.696878711554633,-0.726659987556604,0.1325520935428638,0.7122646874043653,0.5559322248894881,0.8299204753475363,0.7622808056074709,-0.3571081817406207,-0.7673082974995532,-1.822467163795922,0.03487461979410958,-1.6807803315356717,-0.44521254756540457,0.8159383579848506,-0.190325783390438,-0.7856396928245887,-0.9260761805359051,0.517583924104966,1.6021026671366598,0.4229873203326432,-1.700037719783502,-0.4538604329666314,0.8166864818978298,0.9305585393005259,0.5049074077128883,0.5211682772750961,-0.01335320835574904,-1.5967931088903544,0.1903216111844825,1.956463893701451,1.3869483145763544,-0.047308156025256766,-1.655316339583839,-1.4852329670668705,0.8284691878025611,-0.025856984194598406,-0.5250201614457214,0.16712114970338152,-1.0227413771716383,0.1312874571148971,-0.24980039445179966,-0.7550294585573503,-0.38511246108466035,-0.06156158170616333,-1.4927667371666398,-1.009908149102168,-0.49475778714092544,-1.2020041679625442,-1.4431665698922393,0.7171748469242151,0.17685744244345322,-0.9826746544702243,1.228267151164087,-0.1938946283390324,0.37913102238454816,0.6169941215084964,0.4390191948265106,1.119066159693314,0.9071592227843391,-1.1709066569930697,-0.1294459734396095,-0.9212302428638102,1.2705795898023755,-2.1770644281738987,-0.047256955238639285,-0.9698091006080616,-1.6396728546288115,0.8880217205860603,0.6150480380083345,-1.1110029447156429,1.0219039925973734,-1.437867397359614,0.47720449875269483,-1.6440534795849413,-0.6146552236842631,-0.8333882810156945,0.10974442365932786,-0.1521483055090689,-0.4275444547592188,-0.6123386356987067,0.9217241012821501,-2.1394821521408396,0.29341592256007204,-1.048563171146167,-0.2637905212259376,-0.07842688099548696,1.0138601883544591,1.151777340996876,1.5773889595055475,-0.12652528941916694,0.48170961288981695,-0.2506145262455514,-0.3439318091514637,0.8235685130466208,0.7803277353050173,0.24207186377149534,0.7021810496526435],\"z\":[-107.88102341398377,-57.85484389608589,9.07840375223331,89.89805638118261,-26.761484029869365,-86.61907390798088,120.30900737597256,97.362821917105,112.9578516763733,53.449455297549136,-35.341898735725316,-121.05667506955126,-251.3847941317348,-49.14680034164675,-333.607949087556,-73.11082404862374,97.97519957734065,-59.202563654854984,-147.38917252611245,-40.613946303896626,-75.92400094794968,195.04013270696638,62.02632582472083,-158.33130997829517,-68.92255085308321,128.8744914224352,19.89582929487768,36.7721625067809,-3.1700830335507186,4.93711614234881,-102.54977983267915,-75.44828094449721,57.47968065030858,73.00038072879555,-19.802601147373913,-14.792879144367147,-171.27417933507246,-14.943079788708644,-75.96951547773727,-55.10225026995222,128.98219452366214,-129.8857505652379,-87.17240660000053,-121.09603153214607,34.98671840096476,58.46445723146202,108.78175978101997,-136.63832836529457,-238.15812815722683,21.888146461105478,-121.31695902162275,-116.62628678501297,13.63055888727122,18.635932044117382,-154.83551480554465,97.12046016972636,-23.28333583630672,49.447728333834995,45.44485048722237,157.5576572441507,6.432062345614235,87.02532773728045,-60.953204233584636,-24.615160780679123,-32.469092742309,213.4429627509757,-145.63774612067763,129.55151119725716,-30.646225689704373,-331.41446812349557,138.1295905618734,91.49084865726662,-196.985525858005,63.13717017220809,-62.3262769434408,105.0406016655646,-152.56844279591536,-127.28543906911261,38.00841854195478,-24.259943131722327,64.99087828796954,-188.87813793532203,-8.368006273752457,-7.068529757650516,-209.5880703267917,45.94387120082256,-85.30665486121856,75.92840753921504,-18.37410017612421,82.84472429785163,55.27037528060377,206.60051842575587,157.9643958264839,45.93017686434568,-145.9504239194568,106.76763639657767,82.68054396376357,29.454397737817583,40.473417530379294,174.3471221557856],\"type\":\"scatter3d\"},{\"x\":[-5.0,-3.888888888888889,-2.7777777777777777,-1.6666666666666665,-0.5555555555555554,0.5555555555555554,1.666666666666667,2.7777777777777786,3.8888888888888893,5.0],\"y\":[-5.0,-3.888888888888889,-2.7777777777777777,-1.6666666666666665,-0.5555555555555554,0.5555555555555554,1.666666666666667,2.7777777777777786,3.8888888888888893,5.0],\"z\":[[-744.5574787577785,-682.9267848134626,-621.2960908691467,-559.6653969248309,-498.034702980515,-436.4040090361992,-374.7733150918833,-313.1426211475674,-251.51192720325156,-189.88123325893574],[-642.2393545387655,-580.6086605944496,-518.9779666501338,-457.34727270581794,-395.71657876150203,-334.08588481718624,-272.45519087287033,-210.8244969285544,-149.19380298423857,-87.56310903992276],[-539.9212303197525,-478.2905363754366,-416.65984243112075,-355.0291484868049,-293.398454542489,-231.76776059817314,-170.13706665385726,-108.50637270954137,-46.87567876522554,14.755015179090284],[-437.60310610073947,-375.9724121564236,-314.34171821210776,-252.71102426779188,-191.080330323476,-129.44963637916015,-67.81894243484429,-6.188248490528375,55.44244545378745,117.07313939810327],[-335.2849818817264,-273.6542879374106,-212.02359399309472,-150.39290004877884,-88.76220610446299,-27.131512160147146,34.49918178416874,96.12987572848463,157.76056967280047,219.3912636171163],[-232.96685766271344,-171.3361637183976,-109.70546977408175,-48.07477582976588,13.555918114549984,75.18661205886582,136.81730600318173,198.44799994749764,260.07869389181343,321.7093878361292],[-130.6487334437004,-69.01803949938456,-7.3873455550687,54.24334838924717,115.87404233356303,177.5047362778789,239.13543022219477,300.7661241665106,362.3968181108265,424.0275120551423],[-28.330609224687358,33.300084719628494,94.93077866394434,156.56147260826023,218.19216655257608,279.8228604968919,341.45355444120776,403.08424838552367,464.7149423298395,526.3456362741554],[73.9875149943256,135.61820893864146,197.2489028829573,258.87959682727313,320.51029077158904,382.14098471590484,443.77167866022074,505.4023726045367,567.0330665488525,628.6637604931683],[176.3056392133386,237.93633315765445,299.56702710197027,361.1977210462861,422.828414990602,484.4591089349178,546.0898028792337,607.7204968235496,669.3511907678654,730.9818847121813]],\"type\":\"surface\"}],                        {\"template\":{\"data\":{\"bar\":[{\"error_x\":{\"color\":\"#2a3f5f\"},\"error_y\":{\"color\":\"#2a3f5f\"},\"marker\":{\"line\":{\"color\":\"#E5ECF6\",\"width\":0.5},\"pattern\":{\"fillmode\":\"overlay\",\"size\":10,\"solidity\":0.2}},\"type\":\"bar\"}],\"barpolar\":[{\"marker\":{\"line\":{\"color\":\"#E5ECF6\",\"width\":0.5},\"pattern\":{\"fillmode\":\"overlay\",\"size\":10,\"solidity\":0.2}},\"type\":\"barpolar\"}],\"carpet\":[{\"aaxis\":{\"endlinecolor\":\"#2a3f5f\",\"gridcolor\":\"white\",\"linecolor\":\"white\",\"minorgridcolor\":\"white\",\"startlinecolor\":\"#2a3f5f\"},\"baxis\":{\"endlinecolor\":\"#2a3f5f\",\"gridcolor\":\"white\",\"linecolor\":\"white\",\"minorgridcolor\":\"white\",\"startlinecolor\":\"#2a3f5f\"},\"type\":\"carpet\"}],\"choropleth\":[{\"colorbar\":{\"outlinewidth\":0,\"ticks\":\"\"},\"type\":\"choropleth\"}],\"contour\":[{\"colorbar\":{\"outlinewidth\":0,\"ticks\":\"\"},\"colorscale\":[[0.0,\"#0d0887\"],[0.1111111111111111,\"#46039f\"],[0.2222222222222222,\"#7201a8\"],[0.3333333333333333,\"#9c179e\"],[0.4444444444444444,\"#bd3786\"],[0.5555555555555556,\"#d8576b\"],[0.6666666666666666,\"#ed7953\"],[0.7777777777777778,\"#fb9f3a\"],[0.8888888888888888,\"#fdca26\"],[1.0,\"#f0f921\"]],\"type\":\"contour\"}],\"contourcarpet\":[{\"colorbar\":{\"outlinewidth\":0,\"ticks\":\"\"},\"type\":\"contourcarpet\"}],\"heatmap\":[{\"colorbar\":{\"outlinewidth\":0,\"ticks\":\"\"},\"colorscale\":[[0.0,\"#0d0887\"],[0.1111111111111111,\"#46039f\"],[0.2222222222222222,\"#7201a8\"],[0.3333333333333333,\"#9c179e\"],[0.4444444444444444,\"#bd3786\"],[0.5555555555555556,\"#d8576b\"],[0.6666666666666666,\"#ed7953\"],[0.7777777777777778,\"#fb9f3a\"],[0.8888888888888888,\"#fdca26\"],[1.0,\"#f0f921\"]],\"type\":\"heatmap\"}],\"heatmapgl\":[{\"colorbar\":{\"outlinewidth\":0,\"ticks\":\"\"},\"colorscale\":[[0.0,\"#0d0887\"],[0.1111111111111111,\"#46039f\"],[0.2222222222222222,\"#7201a8\"],[0.3333333333333333,\"#9c179e\"],[0.4444444444444444,\"#bd3786\"],[0.5555555555555556,\"#d8576b\"],[0.6666666666666666,\"#ed7953\"],[0.7777777777777778,\"#fb9f3a\"],[0.8888888888888888,\"#fdca26\"],[1.0,\"#f0f921\"]],\"type\":\"heatmapgl\"}],\"histogram\":[{\"marker\":{\"pattern\":{\"fillmode\":\"overlay\",\"size\":10,\"solidity\":0.2}},\"type\":\"histogram\"}],\"histogram2d\":[{\"colorbar\":{\"outlinewidth\":0,\"ticks\":\"\"},\"colorscale\":[[0.0,\"#0d0887\"],[0.1111111111111111,\"#46039f\"],[0.2222222222222222,\"#7201a8\"],[0.3333333333333333,\"#9c179e\"],[0.4444444444444444,\"#bd3786\"],[0.5555555555555556,\"#d8576b\"],[0.6666666666666666,\"#ed7953\"],[0.7777777777777778,\"#fb9f3a\"],[0.8888888888888888,\"#fdca26\"],[1.0,\"#f0f921\"]],\"type\":\"histogram2d\"}],\"histogram2dcontour\":[{\"colorbar\":{\"outlinewidth\":0,\"ticks\":\"\"},\"colorscale\":[[0.0,\"#0d0887\"],[0.1111111111111111,\"#46039f\"],[0.2222222222222222,\"#7201a8\"],[0.3333333333333333,\"#9c179e\"],[0.4444444444444444,\"#bd3786\"],[0.5555555555555556,\"#d8576b\"],[0.6666666666666666,\"#ed7953\"],[0.7777777777777778,\"#fb9f3a\"],[0.8888888888888888,\"#fdca26\"],[1.0,\"#f0f921\"]],\"type\":\"histogram2dcontour\"}],\"mesh3d\":[{\"colorbar\":{\"outlinewidth\":0,\"ticks\":\"\"},\"type\":\"mesh3d\"}],\"parcoords\":[{\"line\":{\"colorbar\":{\"outlinewidth\":0,\"ticks\":\"\"}},\"type\":\"parcoords\"}],\"pie\":[{\"automargin\":true,\"type\":\"pie\"}],\"scatter\":[{\"marker\":{\"colorbar\":{\"outlinewidth\":0,\"ticks\":\"\"}},\"type\":\"scatter\"}],\"scatter3d\":[{\"line\":{\"colorbar\":{\"outlinewidth\":0,\"ticks\":\"\"}},\"marker\":{\"colorbar\":{\"outlinewidth\":0,\"ticks\":\"\"}},\"type\":\"scatter3d\"}],\"scattercarpet\":[{\"marker\":{\"colorbar\":{\"outlinewidth\":0,\"ticks\":\"\"}},\"type\":\"scattercarpet\"}],\"scattergeo\":[{\"marker\":{\"colorbar\":{\"outlinewidth\":0,\"ticks\":\"\"}},\"type\":\"scattergeo\"}],\"scattergl\":[{\"marker\":{\"colorbar\":{\"outlinewidth\":0,\"ticks\":\"\"}},\"type\":\"scattergl\"}],\"scattermapbox\":[{\"marker\":{\"colorbar\":{\"outlinewidth\":0,\"ticks\":\"\"}},\"type\":\"scattermapbox\"}],\"scatterpolar\":[{\"marker\":{\"colorbar\":{\"outlinewidth\":0,\"ticks\":\"\"}},\"type\":\"scatterpolar\"}],\"scatterpolargl\":[{\"marker\":{\"colorbar\":{\"outlinewidth\":0,\"ticks\":\"\"}},\"type\":\"scatterpolargl\"}],\"scatterternary\":[{\"marker\":{\"colorbar\":{\"outlinewidth\":0,\"ticks\":\"\"}},\"type\":\"scatterternary\"}],\"surface\":[{\"colorbar\":{\"outlinewidth\":0,\"ticks\":\"\"},\"colorscale\":[[0.0,\"#0d0887\"],[0.1111111111111111,\"#46039f\"],[0.2222222222222222,\"#7201a8\"],[0.3333333333333333,\"#9c179e\"],[0.4444444444444444,\"#bd3786\"],[0.5555555555555556,\"#d8576b\"],[0.6666666666666666,\"#ed7953\"],[0.7777777777777778,\"#fb9f3a\"],[0.8888888888888888,\"#fdca26\"],[1.0,\"#f0f921\"]],\"type\":\"surface\"}],\"table\":[{\"cells\":{\"fill\":{\"color\":\"#EBF0F8\"},\"line\":{\"color\":\"white\"}},\"header\":{\"fill\":{\"color\":\"#C8D4E3\"},\"line\":{\"color\":\"white\"}},\"type\":\"table\"}]},\"layout\":{\"annotationdefaults\":{\"arrowcolor\":\"#2a3f5f\",\"arrowhead\":0,\"arrowwidth\":1},\"autotypenumbers\":\"strict\",\"coloraxis\":{\"colorbar\":{\"outlinewidth\":0,\"ticks\":\"\"}},\"colorscale\":{\"diverging\":[[0,\"#8e0152\"],[0.1,\"#c51b7d\"],[0.2,\"#de77ae\"],[0.3,\"#f1b6da\"],[0.4,\"#fde0ef\"],[0.5,\"#f7f7f7\"],[0.6,\"#e6f5d0\"],[0.7,\"#b8e186\"],[0.8,\"#7fbc41\"],[0.9,\"#4d9221\"],[1,\"#276419\"]],\"sequential\":[[0.0,\"#0d0887\"],[0.1111111111111111,\"#46039f\"],[0.2222222222222222,\"#7201a8\"],[0.3333333333333333,\"#9c179e\"],[0.4444444444444444,\"#bd3786\"],[0.5555555555555556,\"#d8576b\"],[0.6666666666666666,\"#ed7953\"],[0.7777777777777778,\"#fb9f3a\"],[0.8888888888888888,\"#fdca26\"],[1.0,\"#f0f921\"]],\"sequentialminus\":[[0.0,\"#0d0887\"],[0.1111111111111111,\"#46039f\"],[0.2222222222222222,\"#7201a8\"],[0.3333333333333333,\"#9c179e\"],[0.4444444444444444,\"#bd3786\"],[0.5555555555555556,\"#d8576b\"],[0.6666666666666666,\"#ed7953\"],[0.7777777777777778,\"#fb9f3a\"],[0.8888888888888888,\"#fdca26\"],[1.0,\"#f0f921\"]]},\"colorway\":[\"#636efa\",\"#EF553B\",\"#00cc96\",\"#ab63fa\",\"#FFA15A\",\"#19d3f3\",\"#FF6692\",\"#B6E880\",\"#FF97FF\",\"#FECB52\"],\"font\":{\"color\":\"#2a3f5f\"},\"geo\":{\"bgcolor\":\"white\",\"lakecolor\":\"white\",\"landcolor\":\"#E5ECF6\",\"showlakes\":true,\"showland\":true,\"subunitcolor\":\"white\"},\"hoverlabel\":{\"align\":\"left\"},\"hovermode\":\"closest\",\"mapbox\":{\"style\":\"light\"},\"paper_bgcolor\":\"white\",\"plot_bgcolor\":\"#E5ECF6\",\"polar\":{\"angularaxis\":{\"gridcolor\":\"white\",\"linecolor\":\"white\",\"ticks\":\"\"},\"bgcolor\":\"#E5ECF6\",\"radialaxis\":{\"gridcolor\":\"white\",\"linecolor\":\"white\",\"ticks\":\"\"}},\"scene\":{\"xaxis\":{\"backgroundcolor\":\"#E5ECF6\",\"gridcolor\":\"white\",\"gridwidth\":2,\"linecolor\":\"white\",\"showbackground\":true,\"ticks\":\"\",\"zerolinecolor\":\"white\"},\"yaxis\":{\"backgroundcolor\":\"#E5ECF6\",\"gridcolor\":\"white\",\"gridwidth\":2,\"linecolor\":\"white\",\"showbackground\":true,\"ticks\":\"\",\"zerolinecolor\":\"white\"},\"zaxis\":{\"backgroundcolor\":\"#E5ECF6\",\"gridcolor\":\"white\",\"gridwidth\":2,\"linecolor\":\"white\",\"showbackground\":true,\"ticks\":\"\",\"zerolinecolor\":\"white\"}},\"shapedefaults\":{\"line\":{\"color\":\"#2a3f5f\"}},\"ternary\":{\"aaxis\":{\"gridcolor\":\"white\",\"linecolor\":\"white\",\"ticks\":\"\"},\"baxis\":{\"gridcolor\":\"white\",\"linecolor\":\"white\",\"ticks\":\"\"},\"bgcolor\":\"#E5ECF6\",\"caxis\":{\"gridcolor\":\"white\",\"linecolor\":\"white\",\"ticks\":\"\"}},\"title\":{\"x\":0.05},\"xaxis\":{\"automargin\":true,\"gridcolor\":\"white\",\"linecolor\":\"white\",\"ticks\":\"\",\"title\":{\"standoff\":15},\"zerolinecolor\":\"white\",\"zerolinewidth\":2},\"yaxis\":{\"automargin\":true,\"gridcolor\":\"white\",\"linecolor\":\"white\",\"ticks\":\"\",\"title\":{\"standoff\":15},\"zerolinecolor\":\"white\",\"zerolinewidth\":2}}},\"scene\":{\"domain\":{\"x\":[0.0,1.0],\"y\":[0.0,1.0]},\"xaxis\":{\"title\":{\"text\":\"feature1\"}},\"yaxis\":{\"title\":{\"text\":\"feature2\"}},\"zaxis\":{\"title\":{\"text\":\"target\"}}},\"legend\":{\"tracegroupgap\":0},\"margin\":{\"t\":60}},                        {\"responsive\": true}                    ).then(function(){\n",
              "                            \n",
              "var gd = document.getElementById('0dc797bc-1538-4d5b-bedb-f29f30886b95');\n",
              "var x = new MutationObserver(function (mutations, observer) {{\n",
              "        var display = window.getComputedStyle(gd).display;\n",
              "        if (!display || display === 'none') {{\n",
              "            console.log([gd, 'removed!']);\n",
              "            Plotly.purge(gd);\n",
              "            observer.disconnect();\n",
              "        }}\n",
              "}});\n",
              "\n",
              "// Listen for the removal of the full notebook cells\n",
              "var notebookContainer = gd.closest('#notebook-container');\n",
              "if (notebookContainer) {{\n",
              "    x.observe(notebookContainer, {childList: true});\n",
              "}}\n",
              "\n",
              "// Listen for the clearing of the current output cell\n",
              "var outputEl = gd.closest('.output');\n",
              "if (outputEl) {{\n",
              "    x.observe(outputEl, {childList: true});\n",
              "}}\n",
              "\n",
              "                        })                };                            </script>        </div>\n",
              "</body>\n",
              "</html>"
            ]
          },
          "metadata": {}
        }
      ]
    },
    {
      "cell_type": "code",
      "source": [
        "lr.coef_\n",
        "#beta 1 and beta2 value.\n",
        "\n"
      ],
      "metadata": {
        "colab": {
          "base_uri": "https://localhost:8080/"
        },
        "id": "EwycxLkH2aMr",
        "outputId": "718084bc-17a2-4bdf-9992-b81b4dce0177"
      },
      "execution_count": 52,
      "outputs": [
        {
          "output_type": "execute_result",
          "data": {
            "text/plain": [
              "array([55.46762455, 92.0863118 ])"
            ]
          },
          "metadata": {},
          "execution_count": 52
        }
      ]
    },
    {
      "cell_type": "code",
      "source": [
        "lr.intercept_\n",
        "#intersect value beta not."
      ],
      "metadata": {
        "colab": {
          "base_uri": "https://localhost:8080/"
        },
        "id": "3wn0JTue4gkH",
        "outputId": "5c91dc8c-14b0-4d64-8312-2cf5d73c4bfd"
      },
      "execution_count": 54,
      "outputs": [
        {
          "output_type": "execute_result",
          "data": {
            "text/plain": [
              "-6.78779702279858"
            ]
          },
          "metadata": {},
          "execution_count": 54
        }
      ]
    },
    {
      "cell_type": "code",
      "source": [
        "print(\"end\")"
      ],
      "metadata": {
        "colab": {
          "base_uri": "https://localhost:8080/"
        },
        "id": "6zsWkPEw4iYv",
        "outputId": "2c388c2f-bdfa-493f-f926-daba9eb76a52"
      },
      "execution_count": 56,
      "outputs": [
        {
          "output_type": "stream",
          "name": "stdout",
          "text": [
            "end\n"
          ]
        }
      ]
    },
    {
      "cell_type": "code",
      "source": [],
      "metadata": {
        "id": "NBNr6GjH44Ny"
      },
      "execution_count": null,
      "outputs": []
    }
  ]
}